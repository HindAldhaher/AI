{
 "cells": [
  {
   "cell_type": "markdown",
   "metadata": {},
   "source": [
    "# Artificial Intelligence: Concepts, Challenges, and Opportunities (2020), exercises\n",
    "\n",
    "\n",
    "## General instructions for all exercises\n",
    "\n",
    "Before you turn this problem in, make sure everything runs as expected. First, **restart the kernel** (in the menubar, select Kernel$\\rightarrow$Restart) and then **run all cells** (in the menubar, select Cell$\\rightarrow$Run All).\n",
    "\n",
    "Follow the instructions and fill in your solution under the line marked by tag\n",
    "\n",
    "> YOUR CODE HERE\n",
    "  \n",
    "Having written the answer, execute the code cell by and pressing `Shift-Enter` key combination. The code is run, and it may print some information under the code cell. The focus automatically moves to the next cell and you may \"execute\" that cell by pressing `Shift-Enter` again, until you have reached the code cell which tests your solution. Execute that and follow the feedback. Usually it either says that the solution seems acceptable, or reports some errors. You can go back to your solution, modify it and repeat everything until you are satisfied. Then proceed to the next task.\n",
    "   \n",
    "Repeat the process for all tasks.\n",
    "\n",
    "The notebook may also contain manually graded answers. Write your manualle graded answer under the line marked by tag:\n",
    "\n",
    "> YOUR ANSWER HERE\n",
    "\n",
    "Manually graded tasks may be text, pseudocode, or mathematical formulas. You can write formulas with $\\LaTeX$-syntax by enclosing the formula with dollar signs (`$`), for example `$f(x)=2 \\pi / \\alpha$`, will produce $f(x)=2 \\pi / \\alpha$\n",
    "\n",
    "When you have passed the tests in the notebook, and you are ready to submit your solutions, download the whole notebook, using menu `File -> Download as -> Notebook (.ipynb)`. Save the file in your hard disk, and submit it in [Moodle](https://moodle.uwasa.fi) under the corresponding excercise.\n",
    "\n",
    "Your solution should be an executable Python code. Use the code already existing as an example of Python programing and read more from the numerous Python programming material from the Internet if necessary. \n"
   ]
  },
  {
   "cell_type": "code",
   "execution_count": null,
   "metadata": {},
   "outputs": [],
   "source": [
    "NAME = \"\"\n",
    "Student_number = \"\""
   ]
  },
  {
   "cell_type": "markdown",
   "metadata": {},
   "source": [
    "---"
   ]
  },
  {
   "cell_type": "markdown",
   "metadata": {},
   "source": [
    "## Excercise 1: Intelligent agents and utility"
   ]
  },
  {
   "cell_type": "markdown",
   "metadata": {},
   "source": [
    "## Simple reflex agent\n",
    "\n",
    "Below is a simple example of autonomous car, which drives in the straight road. The car has simple sensors by which it can observe if it is just about to cross the solig border line on the right hand side or the dashed line on the left hand side of the lane. The steering wheel is the actuator of the car, which can be used to steer the car to the left or to the right. \n",
    "\n",
    "Design an intelligent agent, which can steer the autonomous car trough the road staying in the right lane all the time using $\\tt{percepts} \\in \\{\\tt{ left\\; |\\; middle\\; |\\; right }\\}$ and using the actuator commands $\\tt{steering} \\in [-40, 40] $ degrees, where 0 is go straight, +20 turn 20 degrees left and -20 turn 20 degrees to the right.\n",
    "\n",
    "\n",
    "The model is penalized when the car is driving in the areas too close to the left and right border of the lane. To reduce the penalty, steer fast out of the border area. Tune the model untill the penalty is below 25%. It would mean that the car drives less than 25% of the time too close to the borders. You gain more points if you can get the penalty smaller than 20% ? \n",
    "\n",
    "You may tune the parameters and run the model as many times a you like but\n",
    "please be patient, the running of the simulation and the generation of the animation takes usually 20-60 seconds. "
   ]
  },
  {
   "cell_type": "code",
   "execution_count": null,
   "metadata": {
    "deletable": false,
    "editable": false,
    "nbgrader": {
     "cell_type": "code",
     "checksum": "323d60c80259a3366ad5b889a879b286",
     "grade": false,
     "grade_id": "cell-40c057029e059ca4",
     "locked": true,
     "schema_version": 3,
     "solution": false,
     "task": false
    }
   },
   "outputs": [],
   "source": [
    "%matplotlib inline\n",
    "%load_ext autoreload\n",
    "%autoreload 2"
   ]
  },
  {
   "cell_type": "code",
   "execution_count": null,
   "metadata": {
    "deletable": false,
    "editable": false,
    "nbgrader": {
     "cell_type": "code",
     "checksum": "cfbc07bd07116a379687f39efafe562d",
     "grade": false,
     "grade_id": "cell-4ce900bb9795903a",
     "locked": true,
     "schema_version": 3,
     "solution": false,
     "task": false
    }
   },
   "outputs": [],
   "source": [
    "from IPython.display import HTML\n",
    "from agentlibrary import autonomousCar as Car"
   ]
  },
  {
   "cell_type": "markdown",
   "metadata": {},
   "source": [
    "Give your solution to the next cell. Remove the line saying `raise NotImplementedError()`\n",
    "\n",
    "Current implementation of `steer()`-function returns steering angle 0, in all cases. Replace the function body with your own code. The function gets perceptions left and right. Left is true, if the car is too close to left border and right is `True` if the car is too close to the right border. Otherwise both signals are `False`.\n",
    "\n",
    "Use the Python [if-elif-else](https://www.tutorialspoint.com/python/python_if_else.htm) structure and make function to return suitable steering angle in all conditions. Remember to indent the code logically, it is mandatory for Python to work.\n",
    " "
   ]
  },
  {
   "cell_type": "code",
   "execution_count": null,
   "metadata": {
    "deletable": false,
    "nbgrader": {
     "cell_type": "code",
     "checksum": "e923a7f6de82c28616d509dbc63758f3",
     "grade": false,
     "grade_id": "cell-38bf026327b2c0e9",
     "locked": false,
     "schema_version": 3,
     "solution": true,
     "task": false
    }
   },
   "outputs": [],
   "source": [
    "def steer(left,right):\n",
    "    return 0"
   ]
  },
  {
   "cell_type": "code",
   "execution_count": null,
   "metadata": {
    "deletable": false,
    "editable": false,
    "nbgrader": {
     "cell_type": "code",
     "checksum": "9bca036454550ccdb0175ccfb69c8511",
     "grade": true,
     "grade_id": "cell-eaa246f97c83c70f",
     "locked": true,
     "points": 2,
     "schema_version": 3,
     "solution": false,
     "task": false
    }
   },
   "outputs": [],
   "source": [
    "# Testing of the operation of the car\n",
    "# --------------------------------\n",
    "\n",
    "# Instantiate a car simulation object\n",
    "car=Car()\n",
    "\n",
    "# Assign own function for steering the car\n",
    "car.steer=steer\n",
    "\n",
    "# Run the car simulation \n",
    "car.run()\n",
    "\n",
    "# Make an animation of the simulation\n",
    "HTML(car.anim.to_html5_video())\n",
    "\n",
    "# !WARNING: the creation of the animation may take time. It should be finished \n",
    "#           in less than 60 seconds\n"
   ]
  },
  {
   "cell_type": "code",
   "execution_count": null,
   "metadata": {
    "deletable": false,
    "editable": false,
    "nbgrader": {
     "cell_type": "code",
     "checksum": "9b053eba903a7e34ac6763106dd6630e",
     "grade": true,
     "grade_id": "cell-7655b7495a1a21d8",
     "locked": true,
     "points": 2,
     "schema_version": 3,
     "solution": false,
     "task": false
    }
   },
   "outputs": [],
   "source": [
    "\"\"\" Check if the penalty is less than 25% \"\"\"\n",
    "print(\"Penalty is %d %%\" % car.getPenalty())\n",
    "assert(car.getPenalty()<25)\n"
   ]
  },
  {
   "cell_type": "code",
   "execution_count": null,
   "metadata": {
    "deletable": false,
    "editable": false,
    "nbgrader": {
     "cell_type": "code",
     "checksum": "4a6297d4b1d28c5278545a4ac2262a46",
     "grade": true,
     "grade_id": "cell-676463bbc343bd5c",
     "locked": true,
     "points": 2,
     "schema_version": 3,
     "solution": false,
     "task": false
    }
   },
   "outputs": [],
   "source": []
  },
  {
   "cell_type": "markdown",
   "metadata": {},
   "source": [
    "# Model based agent\n",
    "\n",
    "The simple reflex agent shown in the previous example seems to work, but is far from optimal. Clearly we should try to turn the car parallel to the road, but we didn't have enough information for doing that. To improve the performance, we can add a state variable which tries to describe the orientation of the car. If we do not have any other sensors available, we cannot know the orientation exactly, but we may try to estimate it based on the feedback we get from the car simulator.\n",
    "\n",
    "It seems that the car is initially approaching to the border of the road at the certain angle. Our steering actions converted it out from the border, but towards the opposite border with the steepness than in the beginning. If we needed to turn angle $\\alpha$ to avoid the border, we need to turn angle $\\alpha/2$ to the opposite direction afterwards, to align the car with the road. \n",
    "\n",
    "Try to use the orientation variable to perform some corrective steering actions after avoiding the first border. It is enough to just count how many steps you have steered to one direction, and after that steer equal amount of steps to the opposite direction, but half the angle used.\n",
    "\n",
    "Now you should get penalty smaller than 10%.\n",
    "\n",
    "Replace the function with your own implementation as you did above. In this time the code cell contains a global variable `orientation` which is accessed from the function. The reason for using a global variable is only that the value of the variable is kept between function calls. In this way you can easily count how many times you have already steered to the right, and then be able to compensate suitable amount after avoiding the first collision."
   ]
  },
  {
   "cell_type": "code",
   "execution_count": null,
   "metadata": {
    "deletable": false,
    "nbgrader": {
     "cell_type": "code",
     "checksum": "4ef832910f97c7f4864bb230fed3ba3d",
     "grade": false,
     "grade_id": "cell-a5f394d0d32762de",
     "locked": false,
     "schema_version": 3,
     "solution": true,
     "task": false
    }
   },
   "outputs": [],
   "source": [
    "orientation=0\n",
    "\n",
    "def steer(left, right):\n",
    "    global orientation\n",
    "    return 0\n",
    "# YOUR CODE HERE"
   ]
  },
  {
   "cell_type": "code",
   "execution_count": null,
   "metadata": {
    "deletable": false,
    "editable": false,
    "nbgrader": {
     "cell_type": "code",
     "checksum": "25a197531bd883df74e58223e3143fe0",
     "grade": true,
     "grade_id": "cell-ded028f87d50a015",
     "locked": true,
     "points": 2,
     "schema_version": 3,
     "solution": false,
     "task": false
    }
   },
   "outputs": [],
   "source": [
    "# Testing of the operation of the car\n",
    "# --------------------------------\n",
    "\n",
    "# Instantiate a car simulation object\n",
    "car=Car()\n",
    "\n",
    "# Assign own function for steering the car\n",
    "car.steer=steer\n",
    "\n",
    "# Run the car simulation \n",
    "car.run()\n",
    "\n",
    "# Make an animation of the simulation\n",
    "HTML(car.anim.to_html5_video())\n",
    "\n",
    "# !WARNING: the creation of the animation may take time. It should be finished \n",
    "#           in less than 60 seconds\n"
   ]
  },
  {
   "cell_type": "code",
   "execution_count": null,
   "metadata": {
    "deletable": false,
    "editable": false,
    "nbgrader": {
     "cell_type": "code",
     "checksum": "0fe5543773b3c04534cfe58786254d97",
     "grade": true,
     "grade_id": "cell-c99f5b389541280a",
     "locked": true,
     "points": 3,
     "schema_version": 3,
     "solution": false,
     "task": false
    }
   },
   "outputs": [],
   "source": [
    "\n",
    "print(\"Penalty is %d %%\" % car.getPenalty())\n",
    "assert(car.getPenalty()<10)\n"
   ]
  },
  {
   "cell_type": "markdown",
   "metadata": {},
   "source": [
    "# Utility\n",
    "\n",
    "Assume that you are in a house which has seven rooms. You enter in the lobby (room A) and there are two doors. One is for the kitchen (Room B) and the second one for the living room (room C). If you go into the kitchen, there are two other doors leading to the utility room (room D) or to the pantry (room E). In the living room there are also two doors, one leading to sleeping room (room F) and one to the wardrobe (room G).\n",
    "\n",
    "You have 100 € of money and you know that a malicious robot will soon enter in the house from lobby (room A), and its goal is to find your money and take it. You know that the robot has so efficient sensors that it always finds the money if it is in the same room with them. Fortunately it does not search from all rooms. \n",
    "\n",
    "When the robot is in the lobby, it chooses between kitchen (B) and living room (C) at the probabilities shown in the graph below. Similarly, it selects between other possible rooms according to the probabilities shown deeper in the graph. The robot only goes from one room to the another according to the directions of the arrows.\n",
    "\n",
    "Hide 100 € of your money in the rooms as you like, and then the simulation simulates the behaviour of the robot in ten different rounds, and calculates the average amount of funds that was not found in each round. Try to use the probabilities to hide your money in the rooms where the robot visit is less probable. Try also split your money to many different rooms, or try to put everything in just one room. What is the best strategy you can find? \n",
    "\n",
    "You can place your bet using for example the following code\n",
    "`G.placeBet(['D', 'E'],[100, 0])`\n",
    "\n",
    "The first argument for the placeBet function, `['D', 'E']` is the list of all rooms where you want to hide your money. The second argument `[90,10]` is the list of amounts of money you want to hide in the rooms you listed. In this example you would hide 90 € in room D and 10 € to to room E, and nothing to any other rooms. You can distribute the money in as many rooms any way you want, but the total sum must be always 100 €.\n",
    "\n",
    "If you want to utilize more programming, you may generate random distributions of funds and run the simulation in the loop, until you find good enough solution (random search). In this case use `x=np.random.rand(4)`-function to generate four random numbers, then scale `x` so that the sum of the values is 100, and use the x-vector as a second argument to the function `G.placeBet(['D', 'E', 'F', 'G'], x)`. You may use for example `while`-loop, until the simulation result is good enough."
   ]
  },
  {
   "cell_type": "code",
   "execution_count": null,
   "metadata": {
    "deletable": false,
    "editable": false,
    "nbgrader": {
     "cell_type": "code",
     "checksum": "af802561ab905aa14389e77c5d91a48a",
     "grade": false,
     "grade_id": "cell-0fb831749b47311f",
     "locked": true,
     "schema_version": 3,
     "solution": false,
     "task": false
    }
   },
   "outputs": [],
   "source": [
    "from agentlibrary import UtilityGraph\n",
    "G=UtilityGraph(7)\n",
    "G.plot() "
   ]
  },
  {
   "cell_type": "code",
   "execution_count": null,
   "metadata": {
    "deletable": false,
    "nbgrader": {
     "cell_type": "code",
     "checksum": "fb03ba2759aa297783489c175373dec0",
     "grade": false,
     "grade_id": "cell-7d854d9b05334da3",
     "locked": false,
     "schema_version": 3,
     "solution": true,
     "task": false
    }
   },
   "outputs": [],
   "source": [
    "# YOUR CODE HERE\n",
    "G.placeBet(['D', 'E', 'G'],[0, 10, 90])"
   ]
  },
  {
   "cell_type": "code",
   "execution_count": null,
   "metadata": {
    "deletable": false,
    "editable": false,
    "nbgrader": {
     "cell_type": "code",
     "checksum": "a281f855488d4fd2dabe26beae93d6bf",
     "grade": true,
     "grade_id": "cell-4088c12b4084c67e",
     "locked": true,
     "points": 3,
     "schema_version": 3,
     "solution": false,
     "task": false
    }
   },
   "outputs": [],
   "source": [
    "moneyLeft=G.simulate()\n",
    "print(\"Amount of money left = %d €\" % moneyLeft)\n",
    "\n",
    "if(moneyLeft<=75):\n",
    "    print(\"This was not very optimal bet\")\n",
    "elif(moneyLeft>75) and (moneyLeft<85):\n",
    "    print(\"This is good and acceptable. You could perform even better though\")\n",
    "elif(moneyLeft>=85):\n",
    "    print(\"This was excellent bet\")\n",
    "\n"
   ]
  },
  {
   "cell_type": "code",
   "execution_count": null,
   "metadata": {},
   "outputs": [],
   "source": []
  }
 ],
 "metadata": {
  "kernelspec": {
   "display_name": "Python 3",
   "language": "python",
   "name": "python3"
  },
  "language_info": {
   "codemirror_mode": {
    "name": "ipython",
    "version": 3
   },
   "file_extension": ".py",
   "mimetype": "text/x-python",
   "name": "python",
   "nbconvert_exporter": "python",
   "pygments_lexer": "ipython3",
   "version": "3.7.7"
  }
 },
 "nbformat": 4,
 "nbformat_minor": 4
}
