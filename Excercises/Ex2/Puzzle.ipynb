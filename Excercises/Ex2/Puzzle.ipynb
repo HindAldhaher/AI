{
 "cells": [
  {
   "cell_type": "markdown",
   "metadata": {},
   "source": [
    "# Artificial Intelligence: Concepts, Challenges, and Opportunities (2020), exercises\n",
    "\n",
    "\n",
    "## General instructions for all exercises\n",
    "\n",
    "Before you turn this problem in, make sure everything runs as expected. First, **restart the kernel** (in the menubar, select Kernel$\\rightarrow$Restart) and then **run all cells** (in the menubar, select Cell$\\rightarrow$Run All).\n",
    "\n",
    "Follow the instructions and fill in your solution under the line marked by tag\n",
    "\n",
    "> YOUR CODE HERE\n",
    "  \n",
    "Having written the answer, execute the code cell by and pressing `Shift-Enter` key combination. The code is run, and it may print some information under the code cell. The focus automatically moves to the next cell and you may \"execute\" that cell by pressing `Shift-Enter` again, until you have reached the code cell which tests your solution. Execute that and follow the feedback. Usually it either says that the solution seems acceptable, or reports some errors. You can go back to your solution, modify it and repeat everything until you are satisfied. Then proceed to the next task.\n",
    "   \n",
    "Repeat the process for all tasks.\n",
    "\n",
    "The notebook may also contain manually graded answers. Write your manualle graded answer under the line marked by tag:\n",
    "\n",
    "> YOUR ANSWER HERE\n",
    "\n",
    "Manually graded tasks may be text, pseudocode, or mathematical formulas. You can write formulas with $\\LaTeX$-syntax by enclosing the formula with dollar signs (`$`), for example `$f(x)=2 \\pi / \\alpha$`, will produce $f(x)=2 \\pi / \\alpha$\n",
    "\n",
    "When you have passed the tests in the notebook, and you are ready to submit your solutions, download the whole notebook, using menu `File -> Download as -> Notebook (.ipynb)`. Save the file in your hard disk, and submit it in [Moodle](https://moodle.uwasa.fi) under the corresponding excercise.\n",
    "\n",
    "Your solution should be an executable Python code. Use the code already existing as an example of Python programing and read more from the numerous Python programming material from the Internet if necessary. \n"
   ]
  },
  {
   "cell_type": "code",
   "execution_count": null,
   "metadata": {},
   "outputs": [],
   "source": [
    "NAME = \"\"\n",
    "Student_number = \"\""
   ]
  },
  {
   "cell_type": "markdown",
   "metadata": {},
   "source": [
    "---"
   ]
  },
  {
   "cell_type": "markdown",
   "metadata": {},
   "source": [
    "# Solving 8-puzzle with A*\n",
    "\n",
    "The possible moves in the 8-puzzle game forms a graph. Obviously, if the tree is exanded from all possible moves, the goal state will be included in the tree. The goal can be find using graph search algorithms, such as A*.\n",
    "\n",
    "![EightPuzzleGraph](8puzzle-tree.svg)\n",
    "\n",
    "This 8-puzzle is still quite small, in general the number of possible moves will grow exponentially, and the resulting graph may become very large. Most of the branches are, however, bad moves and not necessary to include in the search graph. Therefore good strategy is to use a heuristic function to assess the quality of the possibile branches with some heuristic method before expanding the branch further. This kind of expanding-on-the-go is not directly supported by networkx library, and therefore this is better to solve using tailor made implementation of the search algorithm. \n",
    "\n",
    "In this example an implemenation included in the course book is used:\n",
    "   \n",
    "> Python code for the book *[Artificial Intelligence: A Modern Approach](http://aima.cs.berkeley.edu).* You can use this in conjunction with a course on AI, or for study on your own. We're looking for [solid contributors](https://github.com/aimacode/aima-python/blob/master/CONTRIBUTING.md) to help."
   ]
  },
  {
   "cell_type": "markdown",
   "metadata": {},
   "source": [
    "Import some libraries and define a simple function for displaying the puzzle."
   ]
  },
  {
   "cell_type": "code",
   "execution_count": null,
   "metadata": {},
   "outputs": [],
   "source": [
    "from search import EightPuzzle, recursive_best_first_search, astar_search\n",
    "import numpy as np\n",
    "import ipywidgets as widgets\n",
    "from IPython.display import display"
   ]
  },
  {
   "cell_type": "code",
   "execution_count": null,
   "metadata": {},
   "outputs": [],
   "source": [
    "def displayPuzzle(state):\n",
    "    Bstyle=widgets.Layout(width='30px',)\n",
    "    items = [widgets.Button(description=str(i), layout=Bstyle) for i in state]\n",
    "    display(widgets.GridBox(items, layout=widgets.Layout(grid_template_columns=\"repeat(3, 35px)\")))"
   ]
  },
  {
   "cell_type": "markdown",
   "metadata": {},
   "source": [
    "Set up an initial state and goal state, and display them."
   ]
  },
  {
   "cell_type": "code",
   "execution_count": null,
   "metadata": {},
   "outputs": [],
   "source": [
    "print(\"Intial state:\")\n",
    "initial_state=(2, 4, 3, 1, 5, 6, 7, 8, 0)\n",
    "displayPuzzle(initial_state)\n",
    "\n",
    "print(\"\\nGoal state:\", end='')\n",
    "goal_state=(1, 2, 3, 4, 5, 6, 7, 8, 0)\n",
    "displayPuzzle(goal_state)\n",
    "\n",
    "puzzle = EightPuzzle(initial_state)"
   ]
  },
  {
   "cell_type": "markdown",
   "metadata": {},
   "source": [
    "## Task 1: Define linear heuristic function\n",
    "\n",
    "Implement a simple linear heuristic function, which simply calculates the number of tiles in wrong position in the current state. The current state and the goal state are given as arguments to the function. Both are given as simple vector.\n",
    "\n",
    "The search algorithm uses this heuristic function when eavaluating each node. Based on the result of the heuristic function, the search is directed towards optimal paths."
   ]
  },
  {
   "cell_type": "code",
   "execution_count": null,
   "metadata": {
    "deletable": false,
    "nbgrader": {
     "cell_type": "code",
     "checksum": "e33ccce8ac14a06822e5ea5b0002a7fb",
     "grade": false,
     "grade_id": "cell-6a16170ec273b999",
     "locked": false,
     "schema_version": 3,
     "solution": true,
     "task": false
    }
   },
   "outputs": [],
   "source": [
    "# YOUR CODE HERE\n",
    "raise NotImplementedError()"
   ]
  },
  {
   "cell_type": "code",
   "execution_count": null,
   "metadata": {
    "deletable": false,
    "editable": false,
    "nbgrader": {
     "cell_type": "code",
     "checksum": "e4b9e5ae82f9579027c31e26f7b9f2f2",
     "grade": true,
     "grade_id": "cell-3acd37f4df6cde58",
     "locked": true,
     "points": 3,
     "schema_version": 3,
     "solution": false,
     "task": false
    }
   },
   "outputs": [],
   "source": [
    "distance=linear(initial_state, goal_state)\n",
    "def heuristic(node):\n",
    "    return linear(node.state, goal_state)\n",
    "\n",
    "path=astar_search(puzzle, heuristic).solution()\n",
    "moves_needed=len(path)\n",
    "print(\"Distance=\", distance, \", moves=\", moves_needed)\n",
    "print(\"Path=\", path)\n",
    "\n",
    "assert(linear(initial_state, goal_state)==3)\n",
    "assert(moves_needed == 8)"
   ]
  },
  {
   "cell_type": "markdown",
   "metadata": {},
   "source": [
    "## Task 2: Define heuristic function using Manhattan distance\n",
    "\n",
    "**You can choose to answer either Task 2 or Task 4. If you do not want to answer to this question, write your answer on Task 4!**\n",
    "\n",
    "Implement heuristic function, which return is the sum of manhattan distances of each tile from the correct position. For example in the initial state the distance from the goal state would be:\n",
    "\n",
    "|Tile | horizontal distance | vertical distance | total distance |\n",
    "|-----|------|-----|------|\n",
    "|      1  | 0 |                   1    |              1 |\n",
    "|      2  | 1 |                   0    |              1 |\n",
    "|      3  | 0 |                   0    |              0 |\n",
    "|      4  | 1 |                   1    |              2 |\n",
    "|      5  | 0 |                   0    |              0 |\n",
    "|      6  | 0 |                   0    |              0 |\n",
    "|      7  | 0 |                   0    |              0 |\n",
    "|      8  | 0 |                   0    |              0 |\n",
    "\n",
    "\n",
    "\n",
    "\n",
    "The rest of the tiles are in correct places. The total Manhattan distance is in this case 1+1+2 = 4.\n"
   ]
  },
  {
   "cell_type": "code",
   "execution_count": null,
   "metadata": {
    "deletable": false,
    "nbgrader": {
     "cell_type": "code",
     "checksum": "2a6db1ae85b16e6f5704b4e1f83978b6",
     "grade": false,
     "grade_id": "cell-486509a22a3a1023",
     "locked": false,
     "schema_version": 3,
     "solution": true,
     "task": false
    }
   },
   "outputs": [],
   "source": [
    "# YOUR CODE HERE\n",
    "raise NotImplementedError()"
   ]
  },
  {
   "cell_type": "code",
   "execution_count": null,
   "metadata": {
    "deletable": false,
    "editable": false,
    "nbgrader": {
     "cell_type": "code",
     "checksum": "8d21e4407ec1463ae0164c050ae6dbd4",
     "grade": true,
     "grade_id": "cell-09a1e4830c0d8e61",
     "locked": true,
     "points": 4,
     "schema_version": 3,
     "solution": false,
     "task": false
    }
   },
   "outputs": [],
   "source": [
    "distance=manhattan(initial_state, goal_state)\n",
    "def heuristic(node):\n",
    "    return manhattan(node.state, goal_state)\n",
    "\n",
    "path=astar_search(puzzle, heuristic).solution()\n",
    "moves_needed=len(path)\n",
    "print(\"Distance=\", distance, \", moves=\", moves_needed)\n",
    "print(\"Path=\", path)\n",
    "\n",
    "assert(manhattan(initial_state, goal_state)==4)\n",
    "assert(moves_needed == 8)"
   ]
  },
  {
   "cell_type": "code",
   "execution_count": null,
   "metadata": {},
   "outputs": [],
   "source": []
  },
  {
   "cell_type": "markdown",
   "metadata": {},
   "source": [
    "## Task 3. Running time\n",
    "\n",
    "Whatever heuristic function is used, the algorithm seems to find the same path. That is because it uses recursive search, to search over several possible paths, and chooses the best one. But the heuristic function affects how fast the solutions are found. \n",
    "\n",
    "The `%timeit` operator in Jupyter notebooks can be used in finding out how long does it take to accomplish an algorithm. It usullay runs the algorith many times, like 100 or 1000, and estimates the average running time. Take a look at the running times reported below. "
   ]
  },
  {
   "cell_type": "code",
   "execution_count": null,
   "metadata": {},
   "outputs": [],
   "source": [
    "# Estimate the time of finding the solution without heuristic function\n",
    "\n",
    "def heuristic(node):\n",
    "    return 0\n",
    "%timeit astar_search(puzzle, heuristic).solution()\n",
    "\n",
    "## 18.4 ms ± 11.9 µs"
   ]
  },
  {
   "cell_type": "code",
   "execution_count": null,
   "metadata": {},
   "outputs": [],
   "source": [
    "# Estimate the time of finding the solution with linear heuristic function\n",
    "\n",
    "def heuristic(node):\n",
    "    return linear(node.state, goal_state)\n",
    "%timeit astar_search(puzzle, heuristic).solution()\n",
    "\n",
    "## 535 µs ± 1.27 µs"
   ]
  },
  {
   "cell_type": "code",
   "execution_count": null,
   "metadata": {},
   "outputs": [],
   "source": [
    "# Estimate the time of finding the solution with manhattan heuristic function\n",
    "def heuristic(node):\n",
    "    return manhattan(node.state, goal_state)\n",
    "%timeit astar_search(puzzle, heuristic).solution()\n",
    "\n",
    "## 944 µs ± 609 ns"
   ]
  },
  {
   "cell_type": "markdown",
   "metadata": {
    "deletable": false,
    "editable": false,
    "nbgrader": {
     "cell_type": "markdown",
     "checksum": "737e4b39a1a2890f3d1893e3a0d460fd",
     "grade": false,
     "grade_id": "cell-741cf42c6b96b80d",
     "locked": true,
     "points": 0,
     "schema_version": 3,
     "solution": false,
     "task": true
    }
   },
   "source": [
    "Answer the following questions\n",
    " 1. How and why is the heuristic function affecting to the running times?\n",
    " 1. How can you explain the differences with different heuristic functions?\n",
    " 1. How could you optimize the heuristic function for a given task?"
   ]
  },
  {
   "cell_type": "markdown",
   "metadata": {
    "deletable": false,
    "nbgrader": {
     "cell_type": "markdown",
     "checksum": "b3f1687ebd6b62081f8411806a805f7f",
     "grade": true,
     "grade_id": "cell-a1b7256fb7efc63c",
     "locked": false,
     "points": 3,
     "schema_version": 3,
     "solution": true,
     "task": false
    }
   },
   "source": [
    "YOUR ANSWER HERE"
   ]
  },
  {
   "cell_type": "markdown",
   "metadata": {
    "deletable": false,
    "editable": false,
    "nbgrader": {
     "cell_type": "markdown",
     "checksum": "29f297b0a9a0357a3c09f75ee7253918",
     "grade": false,
     "grade_id": "cell-00b4923254d01dbc",
     "locked": true,
     "points": 0,
     "schema_version": 3,
     "solution": false,
     "task": true
    }
   },
   "source": [
    "## Task 4\n",
    "\n",
    "**If you do not want to answer to task 2, you can answer to this task instead. But choose either one!**\n",
    "\n",
    "#### Graph search algorithms: \n",
    "\n",
    "Select three different graph searching algorithms and explain how they work, and when they are appropriate to use, and when they are not probably a good choise?"
   ]
  },
  {
   "cell_type": "markdown",
   "metadata": {
    "deletable": false,
    "nbgrader": {
     "cell_type": "markdown",
     "checksum": "ed24bfdefee88fbb351a5702fbe86437",
     "grade": true,
     "grade_id": "cell-b75671732b435a4d",
     "locked": false,
     "points": 4,
     "schema_version": 3,
     "solution": true,
     "task": false
    }
   },
   "source": [
    "YOUR ANSWER HERE"
   ]
  }
 ],
 "metadata": {
  "kernelspec": {
   "display_name": "Python 3",
   "language": "python",
   "name": "python3"
  },
  "language_info": {
   "codemirror_mode": {
    "name": "ipython",
    "version": 3
   },
   "file_extension": ".py",
   "mimetype": "text/x-python",
   "name": "python",
   "nbconvert_exporter": "python",
   "pygments_lexer": "ipython3",
   "version": "3.7.8"
  }
 },
 "nbformat": 4,
 "nbformat_minor": 4
}
