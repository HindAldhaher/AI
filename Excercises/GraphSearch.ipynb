{
 "cells": [
  {
   "cell_type": "markdown",
   "metadata": {},
   "source": [
    "Before you turn this problem in, make sure everything runs as expected. First, **restart the kernel** (in the menubar, select Kernel$\\rightarrow$Restart) and then **run all cells** (in the menubar, select Cell$\\rightarrow$Run All).\n",
    "\n",
    "Make sure you fill in any place that says `YOUR CODE HERE` or \"YOUR ANSWER HERE\", as well as your name and collaborators below:"
   ]
  },
  {
   "cell_type": "code",
   "execution_count": null,
   "metadata": {},
   "outputs": [],
   "source": [
    "NAME = \"\"\n",
    "COLLABORATORS = \"\""
   ]
  },
  {
   "cell_type": "markdown",
   "metadata": {},
   "source": [
    "---"
   ]
  },
  {
   "cell_type": "markdown",
   "metadata": {},
   "source": [
    "# Excercise x: Graph search "
   ]
  },
  {
   "cell_type": "markdown",
   "metadata": {},
   "source": [
    "## Breadth first search \n",
    "\n",
    "Starting from the ROOT node, find a path to node `5` using BFS."
   ]
  },
  {
   "cell_type": "markdown",
   "metadata": {},
   "source": [
    "![graph](graafi_DAG.svg)"
   ]
  },
  {
   "cell_type": "markdown",
   "metadata": {
    "nbgrader": {
     "grade": false,
     "grade_id": "cell-3c1eead4003d959f",
     "locked": false,
     "schema_version": 3,
     "solution": false,
     "task": false
    }
   },
   "source": [
    "\n",
    "List the visited nodes, excluding the root node, in the order they are visited during the Breadth First Search. Assume that the search proceeds from left to right and the search ends when the target node is found.\n",
    "\n",
    "Give answer in the form\n",
    "`Pbfs=(8,)`"
   ]
  },
  {
   "cell_type": "code",
   "execution_count": null,
   "metadata": {
    "deletable": false,
    "nbgrader": {
     "cell_type": "code",
     "checksum": "8478e007ee8d9bdf42052f1158e36597",
     "grade": false,
     "grade_id": "BFS_answer",
     "locked": false,
     "schema_version": 3,
     "solution": true,
     "task": false
    }
   },
   "outputs": [],
   "source": [
    "# YOUR CODE HERE\n"
   ]
  },
  {
   "cell_type": "code",
   "execution_count": null,
   "metadata": {
    "deletable": false,
    "editable": false,
    "nbgrader": {
     "cell_type": "code",
     "checksum": "1775c640e39769405df18825a0a74c6f",
     "grade": true,
     "grade_id": "BFS_test1",
     "locked": true,
     "points": 1,
     "schema_version": 3,
     "solution": false,
     "task": false
    }
   },
   "outputs": [],
   "source": [
    "\"\"\" Some tests to find out if you got it right \"\"\"\n",
    "if len(x)==8:\n",
    "    print(\"Looks good...\")\n",
    "else:\n",
    "    print(\"Check once more, you may not have a correct number of nodes listed\")\n",
    "    \n",
    "if x[-1]==5:\n",
    "    print(\"This is probably right.\")\n",
    "else:\n",
    "    print(\"Don't forget to include the target node in the end of the list.\")"
   ]
  },
  {
   "cell_type": "code",
   "execution_count": null,
   "metadata": {
    "deletable": false,
    "editable": false,
    "nbgrader": {
     "cell_type": "code",
     "checksum": "f463097f8d4c427372859d6325466368",
     "grade": true,
     "grade_id": "BFS_test",
     "locked": true,
     "points": 2,
     "schema_version": 3,
     "solution": false,
     "task": false
    }
   },
   "outputs": [],
   "source": []
  },
  {
   "cell_type": "markdown",
   "metadata": {},
   "source": [
    "## Depth first search \n",
    "\n",
    "Starting from the ROOT node, find a path to node `5` using DFS."
   ]
  },
  {
   "cell_type": "markdown",
   "metadata": {},
   "source": [
    "![graph](graafi_DAG.svg)"
   ]
  },
  {
   "cell_type": "markdown",
   "metadata": {
    "nbgrader": {
     "grade": false,
     "grade_id": "cell-3c1eead4003d959f",
     "locked": false,
     "schema_version": 3,
     "solution": false,
     "task": false
    }
   },
   "source": [
    "\n",
    "List the visited nodes, excluding the root node, in the order they are visited during the Depth First Search. Assume that the search proceeds from left to right and the search ends when the target node is found. List each node only once.\n",
    "\n",
    "\n",
    "Give answer in the form\n",
    "`Pdfs=(8,)`"
   ]
  },
  {
   "cell_type": "code",
   "execution_count": null,
   "metadata": {
    "deletable": false,
    "nbgrader": {
     "cell_type": "code",
     "checksum": "fd8c5c76b254bae3960ad3c7dff24f0f",
     "grade": false,
     "grade_id": "DFS_answer",
     "locked": false,
     "schema_version": 3,
     "solution": true,
     "task": false
    }
   },
   "outputs": [],
   "source": [
    "# YOUR CODE HERE\n"
   ]
  },
  {
   "cell_type": "code",
   "execution_count": null,
   "metadata": {
    "deletable": false,
    "editable": false,
    "nbgrader": {
     "cell_type": "code",
     "checksum": "71d8ac42a24248e8add6230c648e0d8a",
     "grade": true,
     "grade_id": "DFS_test2",
     "locked": true,
     "points": 1,
     "schema_version": 3,
     "solution": false,
     "task": false
    }
   },
   "outputs": [],
   "source": [
    "\"\"\" Some tests to find out if you got it right \"\"\"\n",
    "if x.count(8)>1:\n",
    "    print(\"Please insert each node only once, when it is visited the first time.\")\n",
    "if len(x)==10:\n",
    "    print(\"Looks good...\")\n",
    "    if x[-1]==5:\n",
    "        print(\"This is probably right.\")\n",
    "    else:\n",
    "        print(\"Don't forget to include the target node in the end of the list.\")\n",
    "else:\n",
    "    print(\"Check once more, you may not have a correct number of nodes listed\")\n"
   ]
  },
  {
   "cell_type": "code",
   "execution_count": null,
   "metadata": {
    "deletable": false,
    "editable": false,
    "nbgrader": {
     "cell_type": "code",
     "checksum": "ee521ebb622bdaed0e066cbeb8b43a86",
     "grade": true,
     "grade_id": "DFS_test",
     "locked": true,
     "points": 2,
     "schema_version": 3,
     "solution": false,
     "task": false
    }
   },
   "outputs": [],
   "source": []
  },
  {
   "cell_type": "markdown",
   "metadata": {},
   "source": [
    "# Compare the two methods\n",
    "\n",
    "When do you expect BFS to be better than DFS and why?"
   ]
  },
  {
   "cell_type": "markdown",
   "metadata": {
    "deletable": false,
    "nbgrader": {
     "cell_type": "markdown",
     "checksum": "a9c7183bdab55e2bbd1ce450c79ecd8f",
     "grade": true,
     "grade_id": "Comparison",
     "locked": false,
     "points": 2,
     "schema_version": 3,
     "solution": true,
     "task": false
    }
   },
   "source": [
    "YOUR ANSWER HERE"
   ]
  }
 ],
 "metadata": {
  "kernelspec": {
   "display_name": "Python 3",
   "language": "python",
   "name": "python3"
  },
  "language_info": {
   "codemirror_mode": {
    "name": "ipython",
    "version": 3
   },
   "file_extension": ".py",
   "mimetype": "text/x-python",
   "name": "python",
   "nbconvert_exporter": "python",
   "pygments_lexer": "ipython3",
   "version": "3.7.7"
  }
 },
 "nbformat": 4,
 "nbformat_minor": 4
}
